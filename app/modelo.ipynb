{
 "cells": [
  {
   "cell_type": "code",
   "execution_count": 54,
   "id": "966962da",
   "metadata": {},
   "outputs": [],
   "source": [
    "import pandas as pd\n",
    "import matplotlib.pyplot as plt\n",
    "import seaborn as sns\n",
    "import xgboost as xgb\n",
    "import pickle\n",
    "from sklearn.linear_model import LogisticRegression\n",
    "from sklearn.model_selection import train_test_split\n",
    "from sklearn.metrics import classification_report\n",
    "from sklearn.metrics import plot_confusion_matrix\n",
    "import warnings\n",
    "warnings.filterwarnings(\"ignore\")"
   ]
  },
  {
   "cell_type": "code",
   "execution_count": 46,
   "id": "4af7c332",
   "metadata": {},
   "outputs": [],
   "source": [
    "df = pd.read_csv(\"diabetes.csv\")\n",
    "df.columns = [i.lower() for i in df.columns]"
   ]
  },
  {
   "cell_type": "code",
   "execution_count": 49,
   "id": "96d01a3e",
   "metadata": {},
   "outputs": [],
   "source": [
    "#el 1 es la clase minoritaria\n",
    "df_balanced = df[df[\"outcome\"]==1]\n",
    "#tomo una muestra de la mayoritaria del numero que tengo en la minoritaria\n",
    "muestra     = df[df[\"outcome\"]==0].sample(len(df_balanced),random_state =0)\n",
    "#junto las dos\n",
    "df_balanced = df_balanced.append(muestra).reset_index(drop=True)\n",
    "\n",
    "X, y        = df_balanced.drop(\"outcome\",axis=1), df_balanced[\"outcome\"]"
   ]
  },
  {
   "cell_type": "code",
   "execution_count": 50,
   "id": "641adfc8",
   "metadata": {},
   "outputs": [],
   "source": [
    "#dividiendo en train y test\n",
    "X_train, X_test, y_train, y_test = train_test_split(X, y, test_size=0.3, random_state=69)"
   ]
  },
  {
   "cell_type": "markdown",
   "id": "f556b174",
   "metadata": {},
   "source": [
    "#### REGRESION LOGISTICA"
   ]
  },
  {
   "cell_type": "code",
   "execution_count": 35,
   "id": "34fba92d",
   "metadata": {},
   "outputs": [
    {
     "name": "stdout",
     "output_type": "stream",
     "text": [
      "              precision    recall  f1-score   support\n",
      "\n",
      "           0       0.78      0.88      0.83       148\n",
      "           1       0.72      0.55      0.63        83\n",
      "\n",
      "    accuracy                           0.76       231\n",
      "   macro avg       0.75      0.72      0.73       231\n",
      "weighted avg       0.76      0.76      0.75       231\n",
      "\n"
     ]
    }
   ],
   "source": [
    "clf    = LogisticRegression(random_state=0).fit(X_train, y_train)\n",
    "\n",
    "y_pred = clf.predict(X_test)\n",
    "\n",
    "print(classification_report(y_test, y_pred))"
   ]
  },
  {
   "cell_type": "code",
   "execution_count": 55,
   "id": "3308b79a",
   "metadata": {},
   "outputs": [
    {
     "data": {
      "text/plain": [
       "<sklearn.metrics._plot.confusion_matrix.ConfusionMatrixDisplay at 0x7fb04b1db490>"
      ]
     },
     "execution_count": 55,
     "metadata": {},
     "output_type": "execute_result"
    },
    {
     "data": {
      "image/png": "[encoded data removed]",
      "text/plain": [
       "<Figure size 432x288 with 2 Axes>"
      ]
     },
     "metadata": {
      "needs_background": "light"
     },
     "output_type": "display_data"
    }
   ],
   "source": [
    "plot_confusion_matrix(clf, X_test, y_test)  "
   ]
  },
  {
   "cell_type": "code",
   "execution_count": 51,
   "id": "6225823b",
   "metadata": {},
   "outputs": [
    {
     "name": "stdout",
     "output_type": "stream",
     "text": [
      "              precision    recall  f1-score   support\n",
      "\n",
      "           0       0.65      0.73      0.69        73\n",
      "           1       0.75      0.68      0.71        88\n",
      "\n",
      "    accuracy                           0.70       161\n",
      "   macro avg       0.70      0.70      0.70       161\n",
      "weighted avg       0.71      0.70      0.70       161\n",
      "\n"
     ]
    }
   ],
   "source": [
    "clf    = LogisticRegression(random_state=0).fit(X_train, y_train)\n",
    "\n",
    "y_pred = clf.predict(X_test)\n",
    "\n",
    "print(classification_report(y_test, y_pred))"
   ]
  },
  {
   "cell_type": "code",
   "execution_count": 38,
   "id": "2ed1d319",
   "metadata": {},
   "outputs": [
    {
     "name": "stdout",
     "output_type": "stream",
     "text": [
      "              precision    recall  f1-score   support\n",
      "\n",
      "           0       0.78      0.88      0.83       148\n",
      "           1       0.72      0.55      0.63        83\n",
      "\n",
      "    accuracy                           0.76       231\n",
      "   macro avg       0.75      0.72      0.73       231\n",
      "weighted avg       0.76      0.76      0.75       231\n",
      "\n"
     ]
    }
   ],
   "source": [
    "#se establece un nombre de guardado\n",
    "file_name = \"log_reg.pkl\"\n",
    "# save\n",
    "pickle.dump(clf, open(file_name, \"wb\"))\n",
    "\n",
    "# carga\n",
    "log_model_loaded = pickle.load(open(file_name, \"rb\"))\n",
    "\n",
    "# test para ver si da mismos resultados\n",
    "y_pred           = log_model_loaded.predict(X_test)\n",
    "print(classification_report(y_test, y_pred))"
   ]
  },
  {
   "cell_type": "markdown",
   "id": "91f10e71",
   "metadata": {},
   "source": [
    "### XGBOOST"
   ]
  },
  {
   "cell_type": "code",
   "execution_count": 53,
   "id": "1e95977d",
   "metadata": {},
   "outputs": [
    {
     "name": "stdout",
     "output_type": "stream",
     "text": [
      "              precision    recall  f1-score   support\n",
      "\n",
      "           0       0.69      0.68      0.69        73\n",
      "           1       0.74      0.75      0.75        88\n",
      "\n",
      "    accuracy                           0.72       161\n",
      "   macro avg       0.72      0.72      0.72       161\n",
      "weighted avg       0.72      0.72      0.72       161\n",
      "\n"
     ]
    }
   ],
   "source": [
    "model  = xgb.XGBClassifier().fit(X_train, y_train)\n",
    "y_pred = model.predict(X_test)\n",
    "\n",
    "print(classification_report(y_test, y_pred))"
   ]
  },
  {
   "cell_type": "code",
   "execution_count": 57,
   "id": "cd61fbb6",
   "metadata": {},
   "outputs": [
    {
     "data": {
      "image/png": "[encoded data removed]",
      "text/plain": [
       "<Figure size 432x288 with 1 Axes>"
      ]
     },
     "metadata": {
      "needs_background": "light"
     },
     "output_type": "display_data"
    }
   ],
   "source": [
    "xgb.plot_importance(model)\n",
    "plt.show()"
   ]
  },
  {
   "cell_type": "code",
   "execution_count": 37,
   "id": "39de4998",
   "metadata": {},
   "outputs": [
    {
     "name": "stdout",
     "output_type": "stream",
     "text": [
      "              precision    recall  f1-score   support\n",
      "\n",
      "           0       0.79      0.82      0.80       148\n",
      "           1       0.65      0.60      0.63        83\n",
      "\n",
      "    accuracy                           0.74       231\n",
      "   macro avg       0.72      0.71      0.71       231\n",
      "weighted avg       0.74      0.74      0.74       231\n",
      "\n"
     ]
    }
   ],
   "source": [
    "#se establece un nombre de guardado\n",
    "file_name = \"xgb_reg.pkl\"\n",
    "# save\n",
    "pickle.dump(model, open(file_name, \"wb\"))\n",
    "\n",
    "# load\n",
    "xgb_model_loaded = pickle.load(open(file_name, \"rb\"))\n",
    "\n",
    "# test\n",
    "y_pred           = xgb_model_loaded.predict(X_test)\n",
    "print(classification_report(y_test, y_pred))"
   ]
  }
 ],
 "metadata": {
  "kernelspec": {
   "display_name": "Python 3 (ipykernel)",
   "language": "python",
   "name": "python3"
  },
  "language_info": {
   "codemirror_mode": {
    "name": "ipython",
    "version": 3
   },
   "file_extension": ".py",
   "mimetype": "text/x-python",
   "name": "python",
   "nbconvert_exporter": "python",
   "pygments_lexer": "ipython3",
   "version": "3.8.8"
  }
 },
 "nbformat": 4,
 "nbformat_minor": 5
}
